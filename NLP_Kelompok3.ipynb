{
  "nbformat": 4,
  "nbformat_minor": 0,
  "metadata": {
    "colab": {
      "provenance": [],
      "toc_visible": true,
      "authorship_tag": "ABX9TyP4IB1IEDYnk5qeu5j49oZD",
      "include_colab_link": true
    },
    "kernelspec": {
      "name": "python3",
      "display_name": "Python 3"
    },
    "language_info": {
      "name": "python"
    }
  },
  "cells": [
    {
      "cell_type": "markdown",
      "metadata": {
        "id": "view-in-github",
        "colab_type": "text"
      },
      "source": [
        "<a href=\"https://colab.research.google.com/github/11SyamSM/amikom/blob/main/NLP_Kelompok3.ipynb\" target=\"_parent\"><img src=\"https://colab.research.google.com/assets/colab-badge.svg\" alt=\"Open In Colab\"/></a>"
      ]
    },
    {
      "cell_type": "markdown",
      "source": [
        "# **Tugas Kelompok (NLP - Natural Language Processing)**\n",
        "\n",
        "\n",
        "Mata Kuliah : **Natural Language Processing (NLP)**<br/>\n",
        "Dosen Pengampu : **Prof. Dr. Ema Utami, S.Si., M.Kom.**<br/>\n",
        "Tutor : **Ainul Yaqin, M.Kom.**<br/>\n",
        "\n",
        "---\n",
        "***Anggota Kelompok 3***\n",
        "\n",
        "22.55.2292 | Syamsul Syahab Mangun\n",
        "\n",
        "22.55.2309 | Rizky Adi Nugroho\n",
        "\n",
        "22.55.2323 | Fariz Zakaria\n",
        "\n",
        "22.55.2343 | Elsina Novela Waroi\n"
      ],
      "metadata": {
        "id": "Y3vFHRfzCz1_"
      }
    },
    {
      "cell_type": "markdown",
      "source": [
        "# A). Text Processing (basic)"
      ],
      "metadata": {
        "id": "CkTsGjfDDZ-3"
      }
    },
    {
      "cell_type": "markdown",
      "source": [
        "#  1) Tweets Data\n",
        "\n",
        "Data Tweets adalah kumpulan informasi yang terkait dengan tweet yang dihasilkan oleh pengguna Twitter. Informasi ini mencakup berbagai jenis data, termasuk teks tweet itu sendiri, tanggal dan waktu pembuatan tweet, lokasi pengguna yang memposting tweet, jumlah retweet dan like yang diterima tweet, hashtag yang digunakan, dan banyak lagi. \n",
        "\n"
      ],
      "metadata": {
        "id": "yz8KstGrD2hL"
      }
    },
    {
      "cell_type": "markdown",
      "source": [
        "#     a).Tweepy\n",
        "\n",
        "Tweepy adalah sebuah library (pustaka) Python yang memungkinkan  untuk terhubung dan berinteraksi dengan Twitter API. Dengan Tweepy, kita dapat mengembangkan aplikasi Python untuk melakukan berbagai tugas, seperti mengirim tweet, mencari tweet, mengumpulkan data dari Twitter, memonitor trending topic, dan lain-lain. "
      ],
      "metadata": {
        "id": "gKUFfp-zId1n"
      }
    },
    {
      "cell_type": "code",
      "execution_count": 18,
      "metadata": {
        "colab": {
          "base_uri": "https://localhost:8080/",
          "height": 840
        },
        "id": "qJoRlvl3J1_8",
        "outputId": "f3ede71c-e965-4fd2-c328-024943c80324"
      },
      "outputs": [
        {
          "output_type": "display_data",
          "data": {
            "text/plain": [
              "                                               tweets\n",
              "0   RT @txtdrakuntansi: Yang seumur menpora baru s...\n",
              "1   ooop menpora baru ternyata nepo baby 🤭 https:/...\n",
              "2   Presiden Joko Widodo (Jokowi) melantik Dito Ar...\n",
              "3   RT @idextratime: RESMI : Presiden Jokowi menun...\n",
              "4   Menjadi Menteri termuda, Jokowi minta beberapa...\n",
              "..                                                ...\n",
              "95  RT @voaindonesia: Senin hari ini (3/4), Presid...\n",
              "96  @Tan_Mar3M @jokowi Engga rangkap jabatan, udh ...\n",
              "97  RT @historia_id: Supeno menjadi menteri Pemban...\n",
              "98  RT @lirrary: nct dream is 7dream dutyafterscho...\n",
              "99   seumuran ama Menpora.\\nbeda 4 hari.\\nbeda nasib.\n",
              "\n",
              "[100 rows x 1 columns]"
            ],
            "text/html": [
              "\n",
              "  <div id=\"df-531ebb7f-f03c-4e46-b929-5c7ea2f916ce\">\n",
              "    <div class=\"colab-df-container\">\n",
              "      <div>\n",
              "<style scoped>\n",
              "    .dataframe tbody tr th:only-of-type {\n",
              "        vertical-align: middle;\n",
              "    }\n",
              "\n",
              "    .dataframe tbody tr th {\n",
              "        vertical-align: top;\n",
              "    }\n",
              "\n",
              "    .dataframe thead th {\n",
              "        text-align: right;\n",
              "    }\n",
              "</style>\n",
              "<table border=\"1\" class=\"dataframe\">\n",
              "  <thead>\n",
              "    <tr style=\"text-align: right;\">\n",
              "      <th></th>\n",
              "      <th>tweets</th>\n",
              "    </tr>\n",
              "  </thead>\n",
              "  <tbody>\n",
              "    <tr>\n",
              "      <th>0</th>\n",
              "      <td>RT @txtdrakuntansi: Yang seumur menpora baru s...</td>\n",
              "    </tr>\n",
              "    <tr>\n",
              "      <th>1</th>\n",
              "      <td>ooop menpora baru ternyata nepo baby 🤭 https:/...</td>\n",
              "    </tr>\n",
              "    <tr>\n",
              "      <th>2</th>\n",
              "      <td>Presiden Joko Widodo (Jokowi) melantik Dito Ar...</td>\n",
              "    </tr>\n",
              "    <tr>\n",
              "      <th>3</th>\n",
              "      <td>RT @idextratime: RESMI : Presiden Jokowi menun...</td>\n",
              "    </tr>\n",
              "    <tr>\n",
              "      <th>4</th>\n",
              "      <td>Menjadi Menteri termuda, Jokowi minta beberapa...</td>\n",
              "    </tr>\n",
              "    <tr>\n",
              "      <th>...</th>\n",
              "      <td>...</td>\n",
              "    </tr>\n",
              "    <tr>\n",
              "      <th>95</th>\n",
              "      <td>RT @voaindonesia: Senin hari ini (3/4), Presid...</td>\n",
              "    </tr>\n",
              "    <tr>\n",
              "      <th>96</th>\n",
              "      <td>@Tan_Mar3M @jokowi Engga rangkap jabatan, udh ...</td>\n",
              "    </tr>\n",
              "    <tr>\n",
              "      <th>97</th>\n",
              "      <td>RT @historia_id: Supeno menjadi menteri Pemban...</td>\n",
              "    </tr>\n",
              "    <tr>\n",
              "      <th>98</th>\n",
              "      <td>RT @lirrary: nct dream is 7dream dutyafterscho...</td>\n",
              "    </tr>\n",
              "    <tr>\n",
              "      <th>99</th>\n",
              "      <td>seumuran ama Menpora.\\nbeda 4 hari.\\nbeda nasib.</td>\n",
              "    </tr>\n",
              "  </tbody>\n",
              "</table>\n",
              "<p>100 rows × 1 columns</p>\n",
              "</div>\n",
              "      <button class=\"colab-df-convert\" onclick=\"convertToInteractive('df-531ebb7f-f03c-4e46-b929-5c7ea2f916ce')\"\n",
              "              title=\"Convert this dataframe to an interactive table.\"\n",
              "              style=\"display:none;\">\n",
              "        \n",
              "  <svg xmlns=\"http://www.w3.org/2000/svg\" height=\"24px\"viewBox=\"0 0 24 24\"\n",
              "       width=\"24px\">\n",
              "    <path d=\"M0 0h24v24H0V0z\" fill=\"none\"/>\n",
              "    <path d=\"M18.56 5.44l.94 2.06.94-2.06 2.06-.94-2.06-.94-.94-2.06-.94 2.06-2.06.94zm-11 1L8.5 8.5l.94-2.06 2.06-.94-2.06-.94L8.5 2.5l-.94 2.06-2.06.94zm10 10l.94 2.06.94-2.06 2.06-.94-2.06-.94-.94-2.06-.94 2.06-2.06.94z\"/><path d=\"M17.41 7.96l-1.37-1.37c-.4-.4-.92-.59-1.43-.59-.52 0-1.04.2-1.43.59L10.3 9.45l-7.72 7.72c-.78.78-.78 2.05 0 2.83L4 21.41c.39.39.9.59 1.41.59.51 0 1.02-.2 1.41-.59l7.78-7.78 2.81-2.81c.8-.78.8-2.07 0-2.86zM5.41 20L4 18.59l7.72-7.72 1.47 1.35L5.41 20z\"/>\n",
              "  </svg>\n",
              "      </button>\n",
              "      \n",
              "  <style>\n",
              "    .colab-df-container {\n",
              "      display:flex;\n",
              "      flex-wrap:wrap;\n",
              "      gap: 12px;\n",
              "    }\n",
              "\n",
              "    .colab-df-convert {\n",
              "      background-color: #E8F0FE;\n",
              "      border: none;\n",
              "      border-radius: 50%;\n",
              "      cursor: pointer;\n",
              "      display: none;\n",
              "      fill: #1967D2;\n",
              "      height: 32px;\n",
              "      padding: 0 0 0 0;\n",
              "      width: 32px;\n",
              "    }\n",
              "\n",
              "    .colab-df-convert:hover {\n",
              "      background-color: #E2EBFA;\n",
              "      box-shadow: 0px 1px 2px rgba(60, 64, 67, 0.3), 0px 1px 3px 1px rgba(60, 64, 67, 0.15);\n",
              "      fill: #174EA6;\n",
              "    }\n",
              "\n",
              "    [theme=dark] .colab-df-convert {\n",
              "      background-color: #3B4455;\n",
              "      fill: #D2E3FC;\n",
              "    }\n",
              "\n",
              "    [theme=dark] .colab-df-convert:hover {\n",
              "      background-color: #434B5C;\n",
              "      box-shadow: 0px 1px 3px 1px rgba(0, 0, 0, 0.15);\n",
              "      filter: drop-shadow(0px 1px 2px rgba(0, 0, 0, 0.3));\n",
              "      fill: #FFFFFF;\n",
              "    }\n",
              "  </style>\n",
              "\n",
              "      <script>\n",
              "        const buttonEl =\n",
              "          document.querySelector('#df-531ebb7f-f03c-4e46-b929-5c7ea2f916ce button.colab-df-convert');\n",
              "        buttonEl.style.display =\n",
              "          google.colab.kernel.accessAllowed ? 'block' : 'none';\n",
              "\n",
              "        async function convertToInteractive(key) {\n",
              "          const element = document.querySelector('#df-531ebb7f-f03c-4e46-b929-5c7ea2f916ce');\n",
              "          const dataTable =\n",
              "            await google.colab.kernel.invokeFunction('convertToInteractive',\n",
              "                                                     [key], {});\n",
              "          if (!dataTable) return;\n",
              "\n",
              "          const docLinkHtml = 'Like what you see? Visit the ' +\n",
              "            '<a target=\"_blank\" href=https://colab.research.google.com/notebooks/data_table.ipynb>data table notebook</a>'\n",
              "            + ' to learn more about interactive tables.';\n",
              "          element.innerHTML = '';\n",
              "          dataTable['output_type'] = 'display_data';\n",
              "          await google.colab.output.renderOutput(dataTable, element);\n",
              "          const docLink = document.createElement('div');\n",
              "          docLink.innerHTML = docLinkHtml;\n",
              "          element.appendChild(docLink);\n",
              "        }\n",
              "      </script>\n",
              "    </div>\n",
              "  </div>\n",
              "  "
            ]
          },
          "metadata": {}
        }
      ],
      "source": [
        "# %pip install tweepy\n",
        "import tweepy\n",
        "import pandas as pd\n",
        "\n",
        "# Authenticate ke Twitter\n",
        "auth = tweepy.OAuth2BearerHandler(\"AAAAAAAAAAAAAAAAAAAAAKp8mQEAAAAA5UF9ETjjVYD2S40qNyUC9arKNq8%3DyUssooEMqupoOqy5y9oiyqPyTFnhEsp4pyI64ilDt5Sz49S18p\")\n",
        "\n",
        "# Buat API object\n",
        "api = tweepy.API(auth)\n",
        "\n",
        "#buat dan cari variable Twitter\n",
        "tweets = api.search_tweets(q=\"Menpora\", count=100)\n",
        "\n",
        "\n",
        "# Get 10 latest tweets from a user\n",
        "df = pd.DataFrame(data=[tweet.text for tweet in tweets], columns=['tweets'])\n",
        "\n",
        "display(df)"
      ]
    },
    {
      "cell_type": "markdown",
      "source": [
        "#  b). SNScrape\n",
        "\n"
      ],
      "metadata": {
        "id": "h9n8qQptJXH8"
      }
    },
    {
      "cell_type": "markdown",
      "source": [],
      "metadata": {
        "id": "kPU5SqbND_SH"
      }
    },
    {
      "cell_type": "code",
      "source": [
        "!pip install snscrape"
      ],
      "metadata": {
        "colab": {
          "base_uri": "https://localhost:8080/"
        },
        "id": "lC8SknigV5-G",
        "outputId": "a4248c5a-bdde-4821-b834-be1f28c590fe"
      },
      "execution_count": 10,
      "outputs": [
        {
          "output_type": "stream",
          "name": "stdout",
          "text": [
            "Looking in indexes: https://pypi.org/simple, https://us-python.pkg.dev/colab-wheels/public/simple/\n",
            "Collecting snscrape\n",
            "  Downloading snscrape-0.6.2.20230320-py3-none-any.whl (71 kB)\n",
            "\u001b[2K     \u001b[90m━━━━━━━━━━━━━━━━━━━━━━━━━━━━━━━━━━━━━━━━\u001b[0m \u001b[32m71.8/71.8 KB\u001b[0m \u001b[31m2.7 MB/s\u001b[0m eta \u001b[36m0:00:00\u001b[0m\n",
            "\u001b[?25hRequirement already satisfied: lxml in /usr/local/lib/python3.9/dist-packages (from snscrape) (4.9.2)\n",
            "Requirement already satisfied: beautifulsoup4 in /usr/local/lib/python3.9/dist-packages (from snscrape) (4.11.2)\n",
            "Requirement already satisfied: requests[socks] in /usr/local/lib/python3.9/dist-packages (from snscrape) (2.27.1)\n",
            "Requirement already satisfied: filelock in /usr/local/lib/python3.9/dist-packages (from snscrape) (3.10.7)\n",
            "Requirement already satisfied: soupsieve>1.2 in /usr/local/lib/python3.9/dist-packages (from beautifulsoup4->snscrape) (2.4)\n",
            "Requirement already satisfied: charset-normalizer~=2.0.0 in /usr/local/lib/python3.9/dist-packages (from requests[socks]->snscrape) (2.0.12)\n",
            "Requirement already satisfied: idna<4,>=2.5 in /usr/local/lib/python3.9/dist-packages (from requests[socks]->snscrape) (3.4)\n",
            "Requirement already satisfied: certifi>=2017.4.17 in /usr/local/lib/python3.9/dist-packages (from requests[socks]->snscrape) (2022.12.7)\n",
            "Requirement already satisfied: urllib3<1.27,>=1.21.1 in /usr/local/lib/python3.9/dist-packages (from requests[socks]->snscrape) (1.26.15)\n",
            "Requirement already satisfied: PySocks!=1.5.7,>=1.5.6 in /usr/local/lib/python3.9/dist-packages (from requests[socks]->snscrape) (1.7.1)\n",
            "Installing collected packages: snscrape\n",
            "Successfully installed snscrape-0.6.2.20230320\n"
          ]
        }
      ]
    },
    {
      "cell_type": "code",
      "source": [
        "import snscrape.modules.twitter as sntwitter\n",
        "import pandas as pd\n",
        "\n",
        "# Menentukan kata kunci pencarian\n",
        "search_words = \"psm makassar\"\n",
        "\n",
        "# Menentukan tanggal awal dan akhir pencarian\n",
        "since_date = \"2022-03-01\"\n",
        "until_date = \"2022-03-31\"\n",
        "\n",
        "# Membuat query untuk pencarian tweet\n",
        "query = f'{search_words} since:{since_date} until:{until_date}'\n",
        "\n",
        "# Membuat list kosong untuk menyimpan tweet\n",
        "tweets_list = []\n",
        "\n",
        "# Mengumpulkan tweet dengan SNScrape\n",
        "for i, tweet in enumerate(sntwitter.TwitterSearchScraper(query).get_items()):\n",
        "    if i > 1000:  # Batasan jumlah tweet yang diambil\n",
        "        break\n",
        "    tweets_list.append([tweet.date, tweet.id, tweet.content, tweet.user.username])\n",
        "\n",
        "# Membuat dataframe dari list tweet\n",
        "tweets_df = pd.DataFrame(tweets_list, columns=['Datetime', 'Tweet Id', 'Text', 'Username'])\n",
        "\n",
        "# Menyimpan dataframe ke dalam file CSV\n",
        "tweets_df.to_csv('tweets.csv', index=False)\n"
      ],
      "metadata": {
        "colab": {
          "base_uri": "https://localhost:8080/"
        },
        "id": "wuUV2W_hXbBb",
        "outputId": "7c39a6ca-2aae-4a4a-bd24-ed42c0428670"
      },
      "execution_count": 16,
      "outputs": [
        {
          "output_type": "stream",
          "name": "stderr",
          "text": [
            "<ipython-input-16-904fc86ae234>:21: DeprecatedFeatureWarning: content is deprecated, use rawContent instead\n",
            "  tweets_list.append([tweet.date, tweet.id, tweet.content, tweet.user.username])\n"
          ]
        }
      ]
    },
    {
      "cell_type": "code",
      "source": [],
      "metadata": {
        "id": "mXw9gvOVaIf_"
      },
      "execution_count": null,
      "outputs": []
    },
    {
      "cell_type": "code",
      "source": [],
      "metadata": {
        "id": "XR5WFM1aaIcn"
      },
      "execution_count": null,
      "outputs": []
    },
    {
      "cell_type": "code",
      "source": [],
      "metadata": {
        "id": "Dm7-ASahaIX7"
      },
      "execution_count": null,
      "outputs": []
    },
    {
      "cell_type": "code",
      "source": [],
      "metadata": {
        "id": "sk3Y1jtGaIIm"
      },
      "execution_count": null,
      "outputs": []
    }
  ]
}