{
  "cells": [
    {
      "cell_type": "markdown",
      "metadata": {
        "id": "view-in-github",
        "colab_type": "text"
      },
      "source": [
        "<a href=\"https://colab.research.google.com/github/11SyamSM/amikom/blob/main/NLP_Kelompok3.ipynb\" target=\"_parent\"><img src=\"https://colab.research.google.com/assets/colab-badge.svg\" alt=\"Open In Colab\"/></a>"
      ]
    },
    {
      "cell_type": "markdown",
      "metadata": {
        "id": "Y3vFHRfzCz1_"
      },
      "source": [
        "# **Tugas Kelompok (NLP - Natural Language Processing)**\n",
        "\n",
        "\n",
        "Mata Kuliah : **Natural Language Processing (NLP)**<br/>\n",
        "Dosen Pengampu : **Prof. Dr. Ema Utami, S.Si., M.Kom.**<br/>\n",
        "Tutor : **Ainul Yaqin, M.Kom.**<br/>\n",
        "\n",
        "---\n",
        "***Anggota Kelompok 3***\n",
        "\n",
        "22.55.2292 | Syamsul Syahab Mangun\n",
        "\n",
        "22.55.2309 | Rizky Adi Nugroho\n",
        "\n",
        "22.55.2323 | Fariz Zakaria\n",
        "\n",
        "22.55.2343 | Elsina Novela Waroi\n"
      ]
    },
    {
      "cell_type": "markdown",
      "metadata": {
        "id": "CkTsGjfDDZ-3"
      },
      "source": [
        "# A). Basic Text Processing "
      ]
    },
    {
      "cell_type": "markdown",
      "metadata": {
        "id": "yz8KstGrD2hL"
      },
      "source": [
        "##  1) Preparing Data\n",
        "\n",
        "Data yang akan kami olah dalam Text Processing ini adalah data dari Twitter.\n",
        "\n",
        "**Data Tweets** adalah kumpulan informasi yang terkait dengan tweet yang dihasilkan oleh pengguna Twitter. Informasi ini mencakup berbagai jenis data, termasuk teks tweet itu sendiri, tanggal dan waktu pembuatan tweet, lokasi pengguna yang memposting tweet, jumlah retweet dan like yang diterima tweet, hashtag yang digunakan, dan banyak lagi. \n",
        "\n"
      ]
    },
    {
      "cell_type": "markdown",
      "metadata": {
        "id": "kPU5SqbND_SH"
      },
      "source": [
        "Dalam melakukan pengumpulan data opini dari Twitter, kami menggunakan salah satu pustaka python yaitu SNScrape. Adapun alasan kami menggunakan SNScrape karena memiliki beberapa kelebihan, salah duanya adalah bisa menentukan waktu tweet yang diinginkan dan yang pasti tanpa ada limitasi penarikan data tweet (seperti Tweepy yang hanya mengijinkan 100 tweet per requestnya)."
      ]
    },
    {
      "cell_type": "code",
      "execution_count": null,
      "metadata": {
        "id": "lC8SknigV5-G"
      },
      "outputs": [],
      "source": [
        "!pip install snscrape"
      ]
    },
    {
      "cell_type": "code",
      "execution_count": null,
      "metadata": {
        "id": "wuUV2W_hXbBb"
      },
      "outputs": [],
      "source": [
        "import snscrape.modules.twitter as sntwitter\n",
        "import pandas as pd\n",
        "\n",
        "# Menentukan kata kunci pencarian\n",
        "search_words = \"psm makassar\"\n",
        "\n",
        "# Menentukan tanggal awal dan akhir pencarian\n",
        "since_date = \"2023-03-01\"\n",
        "until_date = \"2023-03-31\"\n",
        "\n",
        "# Membuat query untuk pencarian tweet\n",
        "query = f'{search_words} since:{since_date} until:{until_date}'\n",
        "\n",
        "# Membuat list kosong untuk menyimpan tweet\n",
        "tweets_list = []\n",
        "\n",
        "# Mengumpulkan tweet dengan SNScrape\n",
        "for i, tweet in enumerate(sntwitter.TwitterSearchScraper(query).get_items()):\n",
        "    if i > 1000:  # Batasan jumlah tweet yang diambil\n",
        "        break\n",
        "    tweets_list.append([tweet.rawContent, tweet.user.username, tweet.date])\n",
        "\n",
        "# Membuat dataframe dari list tweet\n",
        "df_sns = pd.DataFrame(tweets_list, columns=['Tweet', 'Username', 'Datetime'])\n",
        "\n",
        "# Menampilkan data tweet dalam Dataframe (5 data terakhir)\n",
        "df_sns.tail()"
      ]
    },
    {
      "cell_type": "markdown",
      "metadata": {
        "id": "HE6DoeowkDm7"
      },
      "source": [
        "Seperti yang ada pada output yang dihasilkan, pada perintah script ini kami melakukan beberapa hal:\n",
        "- Menggunakan kata kunci (query) \"PSM Makassar\"\n",
        "- Menentukan waktu tweet dari 01 Maret 2023 s/d 31 Maret 2023\n",
        "- Mengambil 1000 sampel data tweet"
      ]
    },
    {
      "cell_type": "markdown",
      "metadata": {
        "id": "9V_Zqo6dhZJ-"
      },
      "source": [
        "##  2) Preprocessing\n",
        "\n",
        "merupakan tahap awal dalam pengolahan teks atau data yang dilakukan sebelum data tersebut diolah lebih lanjut"
      ]
    },
    {
      "cell_type": "markdown",
      "metadata": {
        "id": "VPE84lzHkBUz"
      },
      "source": [
        "### a) Ubah Ke Huruf Kecil\n",
        "\n",
        "Salah satu teknik preprocessing yang umum dilakukan pada teks adalah mengubah seluruh karakter pada teks menjadi huruf kecil atau bisa disebut dengan lowercase.\n",
        "\n",
        "Proses mengubah teks menjadi huruf kecil ini berguna untuk beberapa tujuan, antara lain:\n",
        "\n",
        "\n",
        "*   memudahkan proses pemrosesan teks karena karakter menjadi seragam\n",
        "*   membantu menghilangkan ambiguitas pada data\n",
        "*   membuat proses pencarian dan pemrosesan teks lebih efisien dan akurat\n",
        "\n",
        "berikut Proses mengubah seluruh huruf menjadi huruf kecil:"
      ]
    },
    {
      "cell_type": "code",
      "execution_count": null,
      "metadata": {
        "id": "ToXbCVHwh_is"
      },
      "outputs": [],
      "source": [
        "df_sns['Tweet'] = df_sns['Tweet'].str.lower()\n",
        "df_sns.tail()"
      ]
    },
    {
      "cell_type": "markdown",
      "metadata": {
        "id": "aObQhH4dnV_u"
      },
      "source": [
        "### b) Hapus Tanda Baca\n",
        "\n",
        "Proses menghapus tanda baca seperti titik, koma, dan lain-lain."
      ]
    },
    {
      "cell_type": "code",
      "execution_count": null,
      "metadata": {
        "colab": {
          "base_uri": "https://localhost:8080/",
          "height": 206
        },
        "id": "y4Mqa1nanVi1",
        "outputId": "b915c048-1987-4ce3-efbe-b4d5f07a2c56"
      },
      "outputs": [
        {
          "data": {
            "text/html": [
              "\n",
              "  <div id=\"df-7cd6c110-69fa-446b-8a41-1f4adafe3eff\">\n",
              "    <div class=\"colab-df-container\">\n",
              "      <div>\n",
              "<style scoped>\n",
              "    .dataframe tbody tr th:only-of-type {\n",
              "        vertical-align: middle;\n",
              "    }\n",
              "\n",
              "    .dataframe tbody tr th {\n",
              "        vertical-align: top;\n",
              "    }\n",
              "\n",
              "    .dataframe thead th {\n",
              "        text-align: right;\n",
              "    }\n",
              "</style>\n",
              "<table border=\"1\" class=\"dataframe\">\n",
              "  <thead>\n",
              "    <tr style=\"text-align: right;\">\n",
              "      <th></th>\n",
              "      <th>Tweet</th>\n",
              "      <th>Username</th>\n",
              "      <th>Datetime</th>\n",
              "    </tr>\n",
              "  </thead>\n",
              "  <tbody>\n",
              "    <tr>\n",
              "      <th>996</th>\n",
              "      <td>psm makassar the ramang boys get ready to cha...</td>\n",
              "      <td>_thinkplus</td>\n",
              "      <td>2023-03-20 05:37:27+00:00</td>\n",
              "    </tr>\n",
              "    <tr>\n",
              "      <th>997</th>\n",
              "      <td>sahidsalahuddin psm makassar vipselatan thema...</td>\n",
              "      <td>Gozalimard</td>\n",
              "      <td>2023-03-20 05:22:08+00:00</td>\n",
              "    </tr>\n",
              "    <tr>\n",
              "      <th>998</th>\n",
              "      <td>psm makassar sambala kerenna verton no look pass</td>\n",
              "      <td>_ippangg</td>\n",
              "      <td>2023-03-20 05:18:50+00:00</td>\n",
              "    </tr>\n",
              "    <tr>\n",
              "      <th>999</th>\n",
              "      <td>kalau persib kalah pada pertandingan sore ini ...</td>\n",
              "      <td>agakarebaa</td>\n",
              "      <td>2023-03-20 04:52:53+00:00</td>\n",
              "    </tr>\n",
              "    <tr>\n",
              "      <th>1000</th>\n",
              "      <td>striker psm makassar ramadhan sananta sukses m...</td>\n",
              "      <td>detik_sulsel</td>\n",
              "      <td>2023-03-20 04:41:39+00:00</td>\n",
              "    </tr>\n",
              "  </tbody>\n",
              "</table>\n",
              "</div>\n",
              "      <button class=\"colab-df-convert\" onclick=\"convertToInteractive('df-7cd6c110-69fa-446b-8a41-1f4adafe3eff')\"\n",
              "              title=\"Convert this dataframe to an interactive table.\"\n",
              "              style=\"display:none;\">\n",
              "        \n",
              "  <svg xmlns=\"http://www.w3.org/2000/svg\" height=\"24px\"viewBox=\"0 0 24 24\"\n",
              "       width=\"24px\">\n",
              "    <path d=\"M0 0h24v24H0V0z\" fill=\"none\"/>\n",
              "    <path d=\"M18.56 5.44l.94 2.06.94-2.06 2.06-.94-2.06-.94-.94-2.06-.94 2.06-2.06.94zm-11 1L8.5 8.5l.94-2.06 2.06-.94-2.06-.94L8.5 2.5l-.94 2.06-2.06.94zm10 10l.94 2.06.94-2.06 2.06-.94-2.06-.94-.94-2.06-.94 2.06-2.06.94z\"/><path d=\"M17.41 7.96l-1.37-1.37c-.4-.4-.92-.59-1.43-.59-.52 0-1.04.2-1.43.59L10.3 9.45l-7.72 7.72c-.78.78-.78 2.05 0 2.83L4 21.41c.39.39.9.59 1.41.59.51 0 1.02-.2 1.41-.59l7.78-7.78 2.81-2.81c.8-.78.8-2.07 0-2.86zM5.41 20L4 18.59l7.72-7.72 1.47 1.35L5.41 20z\"/>\n",
              "  </svg>\n",
              "      </button>\n",
              "      \n",
              "  <style>\n",
              "    .colab-df-container {\n",
              "      display:flex;\n",
              "      flex-wrap:wrap;\n",
              "      gap: 12px;\n",
              "    }\n",
              "\n",
              "    .colab-df-convert {\n",
              "      background-color: #E8F0FE;\n",
              "      border: none;\n",
              "      border-radius: 50%;\n",
              "      cursor: pointer;\n",
              "      display: none;\n",
              "      fill: #1967D2;\n",
              "      height: 32px;\n",
              "      padding: 0 0 0 0;\n",
              "      width: 32px;\n",
              "    }\n",
              "\n",
              "    .colab-df-convert:hover {\n",
              "      background-color: #E2EBFA;\n",
              "      box-shadow: 0px 1px 2px rgba(60, 64, 67, 0.3), 0px 1px 3px 1px rgba(60, 64, 67, 0.15);\n",
              "      fill: #174EA6;\n",
              "    }\n",
              "\n",
              "    [theme=dark] .colab-df-convert {\n",
              "      background-color: #3B4455;\n",
              "      fill: #D2E3FC;\n",
              "    }\n",
              "\n",
              "    [theme=dark] .colab-df-convert:hover {\n",
              "      background-color: #434B5C;\n",
              "      box-shadow: 0px 1px 3px 1px rgba(0, 0, 0, 0.15);\n",
              "      filter: drop-shadow(0px 1px 2px rgba(0, 0, 0, 0.3));\n",
              "      fill: #FFFFFF;\n",
              "    }\n",
              "  </style>\n",
              "\n",
              "      <script>\n",
              "        const buttonEl =\n",
              "          document.querySelector('#df-7cd6c110-69fa-446b-8a41-1f4adafe3eff button.colab-df-convert');\n",
              "        buttonEl.style.display =\n",
              "          google.colab.kernel.accessAllowed ? 'block' : 'none';\n",
              "\n",
              "        async function convertToInteractive(key) {\n",
              "          const element = document.querySelector('#df-7cd6c110-69fa-446b-8a41-1f4adafe3eff');\n",
              "          const dataTable =\n",
              "            await google.colab.kernel.invokeFunction('convertToInteractive',\n",
              "                                                     [key], {});\n",
              "          if (!dataTable) return;\n",
              "\n",
              "          const docLinkHtml = 'Like what you see? Visit the ' +\n",
              "            '<a target=\"_blank\" href=https://colab.research.google.com/notebooks/data_table.ipynb>data table notebook</a>'\n",
              "            + ' to learn more about interactive tables.';\n",
              "          element.innerHTML = '';\n",
              "          dataTable['output_type'] = 'display_data';\n",
              "          await google.colab.output.renderOutput(dataTable, element);\n",
              "          const docLink = document.createElement('div');\n",
              "          docLink.innerHTML = docLinkHtml;\n",
              "          element.appendChild(docLink);\n",
              "        }\n",
              "      </script>\n",
              "    </div>\n",
              "  </div>\n",
              "  "
            ],
            "text/plain": [
              "                                                  Tweet      Username  \\\n",
              "996    psm makassar the ramang boys get ready to cha...    _thinkplus   \n",
              "997    sahidsalahuddin psm makassar vipselatan thema...    Gozalimard   \n",
              "998    psm makassar sambala kerenna verton no look pass      _ippangg   \n",
              "999   kalau persib kalah pada pertandingan sore ini ...    agakarebaa   \n",
              "1000  striker psm makassar ramadhan sananta sukses m...  detik_sulsel   \n",
              "\n",
              "                      Datetime  \n",
              "996  2023-03-20 05:37:27+00:00  \n",
              "997  2023-03-20 05:22:08+00:00  \n",
              "998  2023-03-20 05:18:50+00:00  \n",
              "999  2023-03-20 04:52:53+00:00  \n",
              "1000 2023-03-20 04:41:39+00:00  "
            ]
          },
          "execution_count": 75,
          "metadata": {},
          "output_type": "execute_result"
        }
      ],
      "source": [
        "import numpy as np\n",
        "\n",
        "# Looping semua Tweet\n",
        "new_tweet = []\n",
        "for i in df_sns['Tweet']:\n",
        "  # Hapus tanda baca menggunakan fungsi\n",
        "  symbols = \"!\\\"#$%&()*+-./:;<=>?@[\\]^_`’'…{|}~\\n\"\n",
        "  for j in range(len(symbols)):\n",
        "      i = np.char.replace(i, symbols[j], ' ')\n",
        "      i = np.char.replace(i, \"  \", \" \")\n",
        "  i = np.char.replace(i, ',', '')\n",
        "  new_tweet.append(i)\n",
        "\n",
        "df_sns['Tweet'] = new_tweet\n",
        "df_sns.tail()"
      ]
    },
    {
      "cell_type": "markdown",
      "metadata": {
        "id": "3UiCdZO8oQ0n"
      },
      "source": [
        "### c) Hapus Stopwords\n",
        "\n",
        "Stopwords merupakan kata-kata yang sangat umum digunakan dalam suatu bahasa dan dianggap tidak memiliki makna penting dalam konteks pemrosesan teks.\n",
        "\n",
        "Karena kami menggunakan tweet yang berbahasa indonesia, Untuk menghapus Stopword, maka kami menggunakan library dari Sastrawi.\n",
        "\n",
        "Sastrawi sendiri merupakan sebuah library yang digunakan untuk melakukan proses stemming bahasa Indonseia."
      ]
    },
    {
      "cell_type": "code",
      "execution_count": null,
      "metadata": {
        "id": "RqrkxxIhock5"
      },
      "outputs": [],
      "source": [
        "!pip install sastrawi\n",
        "\n",
        "from Sastrawi.StopWordRemover.StopWordRemoverFactory import StopWordRemoverFactory\n",
        "from Sastrawi.Stemmer.StemmerFactory import StemmerFactory\n",
        "\n",
        "import nltk\n",
        "from nltk.tokenize import word_tokenize\n",
        "nltk.download('punkt')"
      ]
    },
    {
      "cell_type": "code",
      "execution_count": null,
      "metadata": {
        "colab": {
          "base_uri": "https://localhost:8080/",
          "height": 206
        },
        "id": "_m8IaG0soUj4",
        "outputId": "752914cb-0ca0-4578-ca12-38b6f1ca87c2"
      },
      "outputs": [
        {
          "data": {
            "text/html": [
              "\n",
              "  <div id=\"df-cbed5216-6fd3-4400-b566-304463c7f78b\">\n",
              "    <div class=\"colab-df-container\">\n",
              "      <div>\n",
              "<style scoped>\n",
              "    .dataframe tbody tr th:only-of-type {\n",
              "        vertical-align: middle;\n",
              "    }\n",
              "\n",
              "    .dataframe tbody tr th {\n",
              "        vertical-align: top;\n",
              "    }\n",
              "\n",
              "    .dataframe thead th {\n",
              "        text-align: right;\n",
              "    }\n",
              "</style>\n",
              "<table border=\"1\" class=\"dataframe\">\n",
              "  <thead>\n",
              "    <tr style=\"text-align: right;\">\n",
              "      <th></th>\n",
              "      <th>Tweet</th>\n",
              "      <th>Username</th>\n",
              "      <th>Datetime</th>\n",
              "    </tr>\n",
              "  </thead>\n",
              "  <tbody>\n",
              "    <tr>\n",
              "      <th>996</th>\n",
              "      <td>psm makassar the ramang boys get ready to cha...</td>\n",
              "      <td>_thinkplus</td>\n",
              "      <td>2023-03-20 05:37:27+00:00</td>\n",
              "    </tr>\n",
              "    <tr>\n",
              "      <th>997</th>\n",
              "      <td>sahidsalahuddin psm makassar vipselatan thema...</td>\n",
              "      <td>Gozalimard</td>\n",
              "      <td>2023-03-20 05:22:08+00:00</td>\n",
              "    </tr>\n",
              "    <tr>\n",
              "      <th>998</th>\n",
              "      <td>psm makassar sambala kerenna verton no look pass</td>\n",
              "      <td>_ippangg</td>\n",
              "      <td>2023-03-20 05:18:50+00:00</td>\n",
              "    </tr>\n",
              "    <tr>\n",
              "      <th>999</th>\n",
              "      <td>kalau persib kalah pertandingan sore psm maka...</td>\n",
              "      <td>agakarebaa</td>\n",
              "      <td>2023-03-20 04:52:53+00:00</td>\n",
              "    </tr>\n",
              "    <tr>\n",
              "      <th>1000</th>\n",
              "      <td>striker psm makassar ramadhan sananta sukses ...</td>\n",
              "      <td>detik_sulsel</td>\n",
              "      <td>2023-03-20 04:41:39+00:00</td>\n",
              "    </tr>\n",
              "  </tbody>\n",
              "</table>\n",
              "</div>\n",
              "      <button class=\"colab-df-convert\" onclick=\"convertToInteractive('df-cbed5216-6fd3-4400-b566-304463c7f78b')\"\n",
              "              title=\"Convert this dataframe to an interactive table.\"\n",
              "              style=\"display:none;\">\n",
              "        \n",
              "  <svg xmlns=\"http://www.w3.org/2000/svg\" height=\"24px\"viewBox=\"0 0 24 24\"\n",
              "       width=\"24px\">\n",
              "    <path d=\"M0 0h24v24H0V0z\" fill=\"none\"/>\n",
              "    <path d=\"M18.56 5.44l.94 2.06.94-2.06 2.06-.94-2.06-.94-.94-2.06-.94 2.06-2.06.94zm-11 1L8.5 8.5l.94-2.06 2.06-.94-2.06-.94L8.5 2.5l-.94 2.06-2.06.94zm10 10l.94 2.06.94-2.06 2.06-.94-2.06-.94-.94-2.06-.94 2.06-2.06.94z\"/><path d=\"M17.41 7.96l-1.37-1.37c-.4-.4-.92-.59-1.43-.59-.52 0-1.04.2-1.43.59L10.3 9.45l-7.72 7.72c-.78.78-.78 2.05 0 2.83L4 21.41c.39.39.9.59 1.41.59.51 0 1.02-.2 1.41-.59l7.78-7.78 2.81-2.81c.8-.78.8-2.07 0-2.86zM5.41 20L4 18.59l7.72-7.72 1.47 1.35L5.41 20z\"/>\n",
              "  </svg>\n",
              "      </button>\n",
              "      \n",
              "  <style>\n",
              "    .colab-df-container {\n",
              "      display:flex;\n",
              "      flex-wrap:wrap;\n",
              "      gap: 12px;\n",
              "    }\n",
              "\n",
              "    .colab-df-convert {\n",
              "      background-color: #E8F0FE;\n",
              "      border: none;\n",
              "      border-radius: 50%;\n",
              "      cursor: pointer;\n",
              "      display: none;\n",
              "      fill: #1967D2;\n",
              "      height: 32px;\n",
              "      padding: 0 0 0 0;\n",
              "      width: 32px;\n",
              "    }\n",
              "\n",
              "    .colab-df-convert:hover {\n",
              "      background-color: #E2EBFA;\n",
              "      box-shadow: 0px 1px 2px rgba(60, 64, 67, 0.3), 0px 1px 3px 1px rgba(60, 64, 67, 0.15);\n",
              "      fill: #174EA6;\n",
              "    }\n",
              "\n",
              "    [theme=dark] .colab-df-convert {\n",
              "      background-color: #3B4455;\n",
              "      fill: #D2E3FC;\n",
              "    }\n",
              "\n",
              "    [theme=dark] .colab-df-convert:hover {\n",
              "      background-color: #434B5C;\n",
              "      box-shadow: 0px 1px 3px 1px rgba(0, 0, 0, 0.15);\n",
              "      filter: drop-shadow(0px 1px 2px rgba(0, 0, 0, 0.3));\n",
              "      fill: #FFFFFF;\n",
              "    }\n",
              "  </style>\n",
              "\n",
              "      <script>\n",
              "        const buttonEl =\n",
              "          document.querySelector('#df-cbed5216-6fd3-4400-b566-304463c7f78b button.colab-df-convert');\n",
              "        buttonEl.style.display =\n",
              "          google.colab.kernel.accessAllowed ? 'block' : 'none';\n",
              "\n",
              "        async function convertToInteractive(key) {\n",
              "          const element = document.querySelector('#df-cbed5216-6fd3-4400-b566-304463c7f78b');\n",
              "          const dataTable =\n",
              "            await google.colab.kernel.invokeFunction('convertToInteractive',\n",
              "                                                     [key], {});\n",
              "          if (!dataTable) return;\n",
              "\n",
              "          const docLinkHtml = 'Like what you see? Visit the ' +\n",
              "            '<a target=\"_blank\" href=https://colab.research.google.com/notebooks/data_table.ipynb>data table notebook</a>'\n",
              "            + ' to learn more about interactive tables.';\n",
              "          element.innerHTML = '';\n",
              "          dataTable['output_type'] = 'display_data';\n",
              "          await google.colab.output.renderOutput(dataTable, element);\n",
              "          const docLink = document.createElement('div');\n",
              "          docLink.innerHTML = docLinkHtml;\n",
              "          element.appendChild(docLink);\n",
              "        }\n",
              "      </script>\n",
              "    </div>\n",
              "  </div>\n",
              "  "
            ],
            "text/plain": [
              "                                                  Tweet      Username  \\\n",
              "996    psm makassar the ramang boys get ready to cha...    _thinkplus   \n",
              "997    sahidsalahuddin psm makassar vipselatan thema...    Gozalimard   \n",
              "998    psm makassar sambala kerenna verton no look pass      _ippangg   \n",
              "999    kalau persib kalah pertandingan sore psm maka...    agakarebaa   \n",
              "1000   striker psm makassar ramadhan sananta sukses ...  detik_sulsel   \n",
              "\n",
              "                      Datetime  \n",
              "996  2023-03-20 05:37:27+00:00  \n",
              "997  2023-03-20 05:22:08+00:00  \n",
              "998  2023-03-20 05:18:50+00:00  \n",
              "999  2023-03-20 04:52:53+00:00  \n",
              "1000 2023-03-20 04:41:39+00:00  "
            ]
          },
          "execution_count": 77,
          "metadata": {},
          "output_type": "execute_result"
        }
      ],
      "source": [
        "def hapus_stopwords(data):\n",
        "    stop_words = StopWordRemoverFactory().get_stop_words()\n",
        "    words = word_tokenize(str(data))\n",
        "    new_text = \"\"\n",
        "    for w in words:\n",
        "        if w not in stop_words and len(w) > 1:\n",
        "            new_text = new_text + \" \" + w\n",
        "    return new_text\n",
        "\n",
        "# Looping semua Tweet\n",
        "new_tweet = []\n",
        "for i in df_sns['Tweet']:\n",
        "    # Ubah jadi huruf kecil\n",
        "    new_tweet.append(hapus_stopwords(i))\n",
        "\n",
        "df_sns['Tweet'] = new_tweet\n",
        "df_sns.tail()"
      ]
    },
    {
      "cell_type": "markdown",
      "metadata": {
        "id": "O9sjDIAWnZVk"
      },
      "source": [
        "### d) Lemmatisasi\n",
        "\n",
        "lemmatisasi digunakan untuk memperoleh kata dasar yang tepat sehingga bisa memperbaiki kualitas hasil pemrosesan teks"
      ]
    },
    {
      "cell_type": "code",
      "execution_count": null,
      "metadata": {
        "colab": {
          "background_save": true
        },
        "id": "JnGcLkSvnfY9",
        "outputId": "bdfd9dda-e0b2-4a34-9f11-b7dfcd9136ce"
      },
      "outputs": [
        {
          "data": {
            "text/html": [
              "\n",
              "  <div id=\"df-8e8ce78c-a1c7-4f0c-b451-d873cc00a984\">\n",
              "    <div class=\"colab-df-container\">\n",
              "      <div>\n",
              "<style scoped>\n",
              "    .dataframe tbody tr th:only-of-type {\n",
              "        vertical-align: middle;\n",
              "    }\n",
              "\n",
              "    .dataframe tbody tr th {\n",
              "        vertical-align: top;\n",
              "    }\n",
              "\n",
              "    .dataframe thead th {\n",
              "        text-align: right;\n",
              "    }\n",
              "</style>\n",
              "<table border=\"1\" class=\"dataframe\">\n",
              "  <thead>\n",
              "    <tr style=\"text-align: right;\">\n",
              "      <th></th>\n",
              "      <th>Tweet</th>\n",
              "      <th>Username</th>\n",
              "      <th>Datetime</th>\n",
              "      <th>Sentimen</th>\n",
              "      <th>Confidence</th>\n",
              "    </tr>\n",
              "  </thead>\n",
              "  <tbody>\n",
              "    <tr>\n",
              "      <th>996</th>\n",
              "      <td>psm makassar the ramang boys get ready to cha...</td>\n",
              "      <td>_thinkplus</td>\n",
              "      <td>2023-03-20 05:37:27+00:00</td>\n",
              "      <td>Positive</td>\n",
              "      <td>0.3612</td>\n",
              "    </tr>\n",
              "    <tr>\n",
              "      <th>997</th>\n",
              "      <td>sahidsalahuddin psm makassar vipselatan thema...</td>\n",
              "      <td>Gozalimard</td>\n",
              "      <td>2023-03-20 05:22:08+00:00</td>\n",
              "      <td>Neutral</td>\n",
              "      <td>0.0000</td>\n",
              "    </tr>\n",
              "    <tr>\n",
              "      <th>998</th>\n",
              "      <td>psm makassar sambala kerenna verton no look pass</td>\n",
              "      <td>_ippangg</td>\n",
              "      <td>2023-03-20 05:18:50+00:00</td>\n",
              "      <td>Negative</td>\n",
              "      <td>-0.2960</td>\n",
              "    </tr>\n",
              "    <tr>\n",
              "      <th>999</th>\n",
              "      <td>kalau persib kalah tanding sore psm makassar ...</td>\n",
              "      <td>agakarebaa</td>\n",
              "      <td>2023-03-20 04:52:53+00:00</td>\n",
              "      <td>Negative</td>\n",
              "      <td>-0.3612</td>\n",
              "    </tr>\n",
              "    <tr>\n",
              "      <th>1000</th>\n",
              "      <td>striker psm makassar ramadhan sananta sukses ...</td>\n",
              "      <td>detik_sulsel</td>\n",
              "      <td>2023-03-20 04:41:39+00:00</td>\n",
              "      <td>Positive</td>\n",
              "      <td>0.3818</td>\n",
              "    </tr>\n",
              "  </tbody>\n",
              "</table>\n",
              "</div>\n",
              "      <button class=\"colab-df-convert\" onclick=\"convertToInteractive('df-8e8ce78c-a1c7-4f0c-b451-d873cc00a984')\"\n",
              "              title=\"Convert this dataframe to an interactive table.\"\n",
              "              style=\"display:none;\">\n",
              "        \n",
              "  <svg xmlns=\"http://www.w3.org/2000/svg\" height=\"24px\"viewBox=\"0 0 24 24\"\n",
              "       width=\"24px\">\n",
              "    <path d=\"M0 0h24v24H0V0z\" fill=\"none\"/>\n",
              "    <path d=\"M18.56 5.44l.94 2.06.94-2.06 2.06-.94-2.06-.94-.94-2.06-.94 2.06-2.06.94zm-11 1L8.5 8.5l.94-2.06 2.06-.94-2.06-.94L8.5 2.5l-.94 2.06-2.06.94zm10 10l.94 2.06.94-2.06 2.06-.94-2.06-.94-.94-2.06-.94 2.06-2.06.94z\"/><path d=\"M17.41 7.96l-1.37-1.37c-.4-.4-.92-.59-1.43-.59-.52 0-1.04.2-1.43.59L10.3 9.45l-7.72 7.72c-.78.78-.78 2.05 0 2.83L4 21.41c.39.39.9.59 1.41.59.51 0 1.02-.2 1.41-.59l7.78-7.78 2.81-2.81c.8-.78.8-2.07 0-2.86zM5.41 20L4 18.59l7.72-7.72 1.47 1.35L5.41 20z\"/>\n",
              "  </svg>\n",
              "      </button>\n",
              "      \n",
              "  <style>\n",
              "    .colab-df-container {\n",
              "      display:flex;\n",
              "      flex-wrap:wrap;\n",
              "      gap: 12px;\n",
              "    }\n",
              "\n",
              "    .colab-df-convert {\n",
              "      background-color: #E8F0FE;\n",
              "      border: none;\n",
              "      border-radius: 50%;\n",
              "      cursor: pointer;\n",
              "      display: none;\n",
              "      fill: #1967D2;\n",
              "      height: 32px;\n",
              "      padding: 0 0 0 0;\n",
              "      width: 32px;\n",
              "    }\n",
              "\n",
              "    .colab-df-convert:hover {\n",
              "      background-color: #E2EBFA;\n",
              "      box-shadow: 0px 1px 2px rgba(60, 64, 67, 0.3), 0px 1px 3px 1px rgba(60, 64, 67, 0.15);\n",
              "      fill: #174EA6;\n",
              "    }\n",
              "\n",
              "    [theme=dark] .colab-df-convert {\n",
              "      background-color: #3B4455;\n",
              "      fill: #D2E3FC;\n",
              "    }\n",
              "\n",
              "    [theme=dark] .colab-df-convert:hover {\n",
              "      background-color: #434B5C;\n",
              "      box-shadow: 0px 1px 3px 1px rgba(0, 0, 0, 0.15);\n",
              "      filter: drop-shadow(0px 1px 2px rgba(0, 0, 0, 0.3));\n",
              "      fill: #FFFFFF;\n",
              "    }\n",
              "  </style>\n",
              "\n",
              "      <script>\n",
              "        const buttonEl =\n",
              "          document.querySelector('#df-8e8ce78c-a1c7-4f0c-b451-d873cc00a984 button.colab-df-convert');\n",
              "        buttonEl.style.display =\n",
              "          google.colab.kernel.accessAllowed ? 'block' : 'none';\n",
              "\n",
              "        async function convertToInteractive(key) {\n",
              "          const element = document.querySelector('#df-8e8ce78c-a1c7-4f0c-b451-d873cc00a984');\n",
              "          const dataTable =\n",
              "            await google.colab.kernel.invokeFunction('convertToInteractive',\n",
              "                                                     [key], {});\n",
              "          if (!dataTable) return;\n",
              "\n",
              "          const docLinkHtml = 'Like what you see? Visit the ' +\n",
              "            '<a target=\"_blank\" href=https://colab.research.google.com/notebooks/data_table.ipynb>data table notebook</a>'\n",
              "            + ' to learn more about interactive tables.';\n",
              "          element.innerHTML = '';\n",
              "          dataTable['output_type'] = 'display_data';\n",
              "          await google.colab.output.renderOutput(dataTable, element);\n",
              "          const docLink = document.createElement('div');\n",
              "          docLink.innerHTML = docLinkHtml;\n",
              "          element.appendChild(docLink);\n",
              "        }\n",
              "      </script>\n",
              "    </div>\n",
              "  </div>\n",
              "  "
            ],
            "text/plain": [
              "                                                  Tweet      Username  \\\n",
              "996    psm makassar the ramang boys get ready to cha...    _thinkplus   \n",
              "997    sahidsalahuddin psm makassar vipselatan thema...    Gozalimard   \n",
              "998    psm makassar sambala kerenna verton no look pass      _ippangg   \n",
              "999    kalau persib kalah tanding sore psm makassar ...    agakarebaa   \n",
              "1000   striker psm makassar ramadhan sananta sukses ...  detik_sulsel   \n",
              "\n",
              "                      Datetime  Sentimen  Confidence  \n",
              "996  2023-03-20 05:37:27+00:00  Positive      0.3612  \n",
              "997  2023-03-20 05:22:08+00:00   Neutral      0.0000  \n",
              "998  2023-03-20 05:18:50+00:00  Negative     -0.2960  \n",
              "999  2023-03-20 04:52:53+00:00  Negative     -0.3612  \n",
              "1000 2023-03-20 04:41:39+00:00  Positive      0.3818  "
            ]
          },
          "execution_count": 201,
          "metadata": {},
          "output_type": "execute_result"
        }
      ],
      "source": [
        "def stemming(data):\n",
        "    stemmer = StemmerFactory().create_stemmer()\n",
        "    tokens = word_tokenize(str(data))\n",
        "    new_text = \"\"\n",
        "    for w in tokens:\n",
        "        new_text = new_text + \" \" + stemmer.stem(w)\n",
        "    return new_text\n",
        "\n",
        "new_tweet = []\n",
        "for i in df_sns['Tweet']:\n",
        "  new_tweet.append(stemming(i))\n",
        "\n",
        "df_sns['Tweet'] = new_tweet\n",
        "df_sns.tail()"
      ]
    },
    {
      "cell_type": "markdown",
      "metadata": {
        "id": "e_uzZ-SfhnmB"
      },
      "source": [
        "## 4) Visualisasi Sentiment\n",
        "\n",
        "Data sentimen adalah data yang menggambarkan perasaan, pendapat, atau sikap seseorang terhadap suatu topik atau objek tertentu, disini kami memasukkan ke dalam library Matplotlib."
      ]
    },
    {
      "cell_type": "code",
      "execution_count": null,
      "metadata": {
        "id": "KP1cotF7xWUm"
      },
      "outputs": [],
      "source": [
        "import matplotlib.pyplot as plt\n",
        "\n",
        "from nltk.sentiment.vader import SentimentIntensityAnalyzer\n",
        "nltk.download('vader_lexicon')"
      ]
    },
    {
      "cell_type": "code",
      "execution_count": null,
      "metadata": {
        "colab": {
          "base_uri": "https://localhost:8080/",
          "height": 206
        },
        "id": "Ykbo42ApisFI",
        "outputId": "040dd3e9-6757-432a-f486-5bb25b76c1ea"
      },
      "outputs": [
        {
          "data": {
            "text/html": [
              "\n",
              "  <div id=\"df-94d0107c-cc7b-4ca9-86e0-e9a347a34fef\">\n",
              "    <div class=\"colab-df-container\">\n",
              "      <div>\n",
              "<style scoped>\n",
              "    .dataframe tbody tr th:only-of-type {\n",
              "        vertical-align: middle;\n",
              "    }\n",
              "\n",
              "    .dataframe tbody tr th {\n",
              "        vertical-align: top;\n",
              "    }\n",
              "\n",
              "    .dataframe thead th {\n",
              "        text-align: right;\n",
              "    }\n",
              "</style>\n",
              "<table border=\"1\" class=\"dataframe\">\n",
              "  <thead>\n",
              "    <tr style=\"text-align: right;\">\n",
              "      <th></th>\n",
              "      <th>Tweet</th>\n",
              "      <th>Username</th>\n",
              "      <th>Datetime</th>\n",
              "      <th>Sentimen</th>\n",
              "      <th>Confidence</th>\n",
              "    </tr>\n",
              "  </thead>\n",
              "  <tbody>\n",
              "    <tr>\n",
              "      <th>0</th>\n",
              "      <td>prediksi madura united fc vs psm makassar kun...</td>\n",
              "      <td>heraldindo</td>\n",
              "      <td>2023-03-30 23:59:50+00:00</td>\n",
              "      <td>Positive</td>\n",
              "      <td>0.4215</td>\n",
              "    </tr>\n",
              "    <tr>\n",
              "      <th>1</th>\n",
              "      <td>psm makassar yemeni ciceng mennang na yala ju...</td>\n",
              "      <td>atekkempire</td>\n",
              "      <td>2023-03-30 23:47:44+00:00</td>\n",
              "      <td>Neutral</td>\n",
              "      <td>0.0000</td>\n",
              "    </tr>\n",
              "    <tr>\n",
              "      <th>2</th>\n",
              "      <td>psm makassar semoga aamiin ewakoooo</td>\n",
              "      <td>ulla_van17</td>\n",
              "      <td>2023-03-30 23:39:29+00:00</td>\n",
              "      <td>Neutral</td>\n",
              "      <td>0.0000</td>\n",
              "    </tr>\n",
              "    <tr>\n",
              "      <th>3</th>\n",
              "      <td>selamat pagi semoga menjadi jumat penuh berka...</td>\n",
              "      <td>PSM_Makassar</td>\n",
              "      <td>2023-03-30 23:38:49+00:00</td>\n",
              "      <td>Neutral</td>\n",
              "      <td>0.0000</td>\n",
              "    </tr>\n",
              "    <tr>\n",
              "      <th>4</th>\n",
              "      <td>ribuan suporter psm makassar belasan kelompok...</td>\n",
              "      <td>lagilagibola</td>\n",
              "      <td>2023-03-30 23:37:55+00:00</td>\n",
              "      <td>Positive</td>\n",
              "      <td>0.6808</td>\n",
              "    </tr>\n",
              "  </tbody>\n",
              "</table>\n",
              "</div>\n",
              "      <button class=\"colab-df-convert\" onclick=\"convertToInteractive('df-94d0107c-cc7b-4ca9-86e0-e9a347a34fef')\"\n",
              "              title=\"Convert this dataframe to an interactive table.\"\n",
              "              style=\"display:none;\">\n",
              "        \n",
              "  <svg xmlns=\"http://www.w3.org/2000/svg\" height=\"24px\"viewBox=\"0 0 24 24\"\n",
              "       width=\"24px\">\n",
              "    <path d=\"M0 0h24v24H0V0z\" fill=\"none\"/>\n",
              "    <path d=\"M18.56 5.44l.94 2.06.94-2.06 2.06-.94-2.06-.94-.94-2.06-.94 2.06-2.06.94zm-11 1L8.5 8.5l.94-2.06 2.06-.94-2.06-.94L8.5 2.5l-.94 2.06-2.06.94zm10 10l.94 2.06.94-2.06 2.06-.94-2.06-.94-.94-2.06-.94 2.06-2.06.94z\"/><path d=\"M17.41 7.96l-1.37-1.37c-.4-.4-.92-.59-1.43-.59-.52 0-1.04.2-1.43.59L10.3 9.45l-7.72 7.72c-.78.78-.78 2.05 0 2.83L4 21.41c.39.39.9.59 1.41.59.51 0 1.02-.2 1.41-.59l7.78-7.78 2.81-2.81c.8-.78.8-2.07 0-2.86zM5.41 20L4 18.59l7.72-7.72 1.47 1.35L5.41 20z\"/>\n",
              "  </svg>\n",
              "      </button>\n",
              "      \n",
              "  <style>\n",
              "    .colab-df-container {\n",
              "      display:flex;\n",
              "      flex-wrap:wrap;\n",
              "      gap: 12px;\n",
              "    }\n",
              "\n",
              "    .colab-df-convert {\n",
              "      background-color: #E8F0FE;\n",
              "      border: none;\n",
              "      border-radius: 50%;\n",
              "      cursor: pointer;\n",
              "      display: none;\n",
              "      fill: #1967D2;\n",
              "      height: 32px;\n",
              "      padding: 0 0 0 0;\n",
              "      width: 32px;\n",
              "    }\n",
              "\n",
              "    .colab-df-convert:hover {\n",
              "      background-color: #E2EBFA;\n",
              "      box-shadow: 0px 1px 2px rgba(60, 64, 67, 0.3), 0px 1px 3px 1px rgba(60, 64, 67, 0.15);\n",
              "      fill: #174EA6;\n",
              "    }\n",
              "\n",
              "    [theme=dark] .colab-df-convert {\n",
              "      background-color: #3B4455;\n",
              "      fill: #D2E3FC;\n",
              "    }\n",
              "\n",
              "    [theme=dark] .colab-df-convert:hover {\n",
              "      background-color: #434B5C;\n",
              "      box-shadow: 0px 1px 3px 1px rgba(0, 0, 0, 0.15);\n",
              "      filter: drop-shadow(0px 1px 2px rgba(0, 0, 0, 0.3));\n",
              "      fill: #FFFFFF;\n",
              "    }\n",
              "  </style>\n",
              "\n",
              "      <script>\n",
              "        const buttonEl =\n",
              "          document.querySelector('#df-94d0107c-cc7b-4ca9-86e0-e9a347a34fef button.colab-df-convert');\n",
              "        buttonEl.style.display =\n",
              "          google.colab.kernel.accessAllowed ? 'block' : 'none';\n",
              "\n",
              "        async function convertToInteractive(key) {\n",
              "          const element = document.querySelector('#df-94d0107c-cc7b-4ca9-86e0-e9a347a34fef');\n",
              "          const dataTable =\n",
              "            await google.colab.kernel.invokeFunction('convertToInteractive',\n",
              "                                                     [key], {});\n",
              "          if (!dataTable) return;\n",
              "\n",
              "          const docLinkHtml = 'Like what you see? Visit the ' +\n",
              "            '<a target=\"_blank\" href=https://colab.research.google.com/notebooks/data_table.ipynb>data table notebook</a>'\n",
              "            + ' to learn more about interactive tables.';\n",
              "          element.innerHTML = '';\n",
              "          dataTable['output_type'] = 'display_data';\n",
              "          await google.colab.output.renderOutput(dataTable, element);\n",
              "          const docLink = document.createElement('div');\n",
              "          docLink.innerHTML = docLinkHtml;\n",
              "          element.appendChild(docLink);\n",
              "        }\n",
              "      </script>\n",
              "    </div>\n",
              "  </div>\n",
              "  "
            ],
            "text/plain": [
              "                                               Tweet      Username  \\\n",
              "0   prediksi madura united fc vs psm makassar kun...    heraldindo   \n",
              "1   psm makassar yemeni ciceng mennang na yala ju...   atekkempire   \n",
              "2                psm makassar semoga aamiin ewakoooo    ulla_van17   \n",
              "3   selamat pagi semoga menjadi jumat penuh berka...  PSM_Makassar   \n",
              "4   ribuan suporter psm makassar belasan kelompok...  lagilagibola   \n",
              "\n",
              "                   Datetime  Sentimen  Confidence  \n",
              "0 2023-03-30 23:59:50+00:00  Positive      0.4215  \n",
              "1 2023-03-30 23:47:44+00:00   Neutral      0.0000  \n",
              "2 2023-03-30 23:39:29+00:00   Neutral      0.0000  \n",
              "3 2023-03-30 23:38:49+00:00   Neutral      0.0000  \n",
              "4 2023-03-30 23:37:55+00:00  Positive      0.6808  "
            ]
          },
          "execution_count": 129,
          "metadata": {},
          "output_type": "execute_result"
        }
      ],
      "source": [
        "def score_to_sentiment(score):\n",
        "    if score > 0.2:\n",
        "        return \"Positive\"\n",
        "    elif score < -0.2:\n",
        "        return \"Negative\"\n",
        "    else:\n",
        "        return \"Neutral\"\n",
        "\n",
        "analyzer = SentimentIntensityAnalyzer()\n",
        "\n",
        "confidence = []\n",
        "for i in df_sns['Tweet']:\n",
        "    confidence.append(analyzer.polarity_scores(str(i))['compound'])\n",
        "\n",
        "sentimen = []\n",
        "for i in df_sns['Tweet']:\n",
        "    sentimen.append(score_to_sentiment(analyzer.polarity_scores(str(i))['compound']))\n",
        "\n",
        "df_sns['Confidence'] = confidence\n",
        "df_sns['Sentimen'] = sentimen\n",
        "df_sns.head()"
      ]
    },
    {
      "cell_type": "markdown",
      "metadata": {
        "id": "owJwuGWAt8gx"
      },
      "source": [
        "# B) Document Term of Matrix\n",
        "\n",
        "Pada tahap ini, kami akan membuat sebuah tabel hasil berisi kata beserta jumlah frekuensi penggunaan kata."
      ]
    },
    {
      "cell_type": "markdown",
      "metadata": {
        "id": "f1jMb69Ank6r"
      },
      "source": [
        "### a) Tokenisasi\n",
        "\n",
        "Tokenisasi atau tokenization adalah proses mengubah teks menjadi unit-unit yang lebih kecil yang disebut token.\n",
        "\n",
        "tokenisasi sering dilakukan dengan memisahkan teks menjadi kata-kata atau tanda baca menggunakan whitespace, tanda baca, atau karakter tertentu sebagai pemisah."
      ]
    },
    {
      "cell_type": "code",
      "execution_count": null,
      "metadata": {
        "id": "5JXk7iuWqRIy"
      },
      "outputs": [],
      "source": [
        "tokenized_text = []\n",
        "text_column = df_sns['Tweet']\n",
        "for text in text_column:\n",
        "    tokens = word_tokenize(text)\n",
        "    tokenized_text.append(tokens)\n",
        "\n",
        "token = pd.DataFrame({'Token': tokenized_text})\n",
        "token.tail()"
      ]
    },
    {
      "cell_type": "markdown",
      "metadata": {
        "id": "QP-NiJU0w_SK"
      },
      "source": [
        "### b) DToM\n",
        "\n",
        "DToM merupakan singkatan dari Document-Term Matrix, yaitu representasi matematis dari dokumen teks yang digunakan dalam pemrosesan teks. DToM menggambarkan dokumen teks sebagai matriks yang terdiri dari baris dan kolom, di mana baris merepresentasikan dokumen dan kolom merepresentasikan kata-kata dalam dokumen tersebut."
      ]
    },
    {
      "cell_type": "code",
      "execution_count": null,
      "metadata": {
        "colab": {
          "base_uri": "https://localhost:8080/",
          "height": 455
        },
        "id": "zoe08oO9irka",
        "outputId": "60d7351b-07c3-43a3-eaa7-cf6abd464e17"
      },
      "outputs": [
        {
          "data": {
            "text/html": [
              "\n",
              "  <div id=\"df-d8ff56ee-d226-415a-9ca8-a1ba363e300a\">\n",
              "    <div class=\"colab-df-container\">\n",
              "      <div>\n",
              "<style scoped>\n",
              "    .dataframe tbody tr th:only-of-type {\n",
              "        vertical-align: middle;\n",
              "    }\n",
              "\n",
              "    .dataframe tbody tr th {\n",
              "        vertical-align: top;\n",
              "    }\n",
              "\n",
              "    .dataframe thead th {\n",
              "        text-align: right;\n",
              "    }\n",
              "</style>\n",
              "<table border=\"1\" class=\"dataframe\">\n",
              "  <thead>\n",
              "    <tr style=\"text-align: right;\">\n",
              "      <th></th>\n",
              "      <th>Frekuensi</th>\n",
              "    </tr>\n",
              "    <tr>\n",
              "      <th>Token</th>\n",
              "      <th></th>\n",
              "    </tr>\n",
              "  </thead>\n",
              "  <tbody>\n",
              "    <tr>\n",
              "      <th>prediksi</th>\n",
              "      <td>9</td>\n",
              "    </tr>\n",
              "    <tr>\n",
              "      <th>madura</th>\n",
              "      <td>93</td>\n",
              "    </tr>\n",
              "    <tr>\n",
              "      <th>united</th>\n",
              "      <td>97</td>\n",
              "    </tr>\n",
              "    <tr>\n",
              "      <th>fc</th>\n",
              "      <td>25</td>\n",
              "    </tr>\n",
              "    <tr>\n",
              "      <th>vs</th>\n",
              "      <td>44</td>\n",
              "    </tr>\n",
              "    <tr>\n",
              "      <th>...</th>\n",
              "      <td>...</td>\n",
              "    </tr>\n",
              "    <tr>\n",
              "      <th>pass</th>\n",
              "      <td>1</td>\n",
              "    </tr>\n",
              "    <tr>\n",
              "      <th>facto</th>\n",
              "      <td>1</td>\n",
              "    </tr>\n",
              "    <tr>\n",
              "      <th>jure</th>\n",
              "      <td>1</td>\n",
              "    </tr>\n",
              "    <tr>\n",
              "      <th>menembus</th>\n",
              "      <td>1</td>\n",
              "    </tr>\n",
              "    <tr>\n",
              "      <th>pc3l0qbe9i</th>\n",
              "      <td>1</td>\n",
              "    </tr>\n",
              "  </tbody>\n",
              "</table>\n",
              "<p>4021 rows × 1 columns</p>\n",
              "</div>\n",
              "      <button class=\"colab-df-convert\" onclick=\"convertToInteractive('df-d8ff56ee-d226-415a-9ca8-a1ba363e300a')\"\n",
              "              title=\"Convert this dataframe to an interactive table.\"\n",
              "              style=\"display:none;\">\n",
              "        \n",
              "  <svg xmlns=\"http://www.w3.org/2000/svg\" height=\"24px\"viewBox=\"0 0 24 24\"\n",
              "       width=\"24px\">\n",
              "    <path d=\"M0 0h24v24H0V0z\" fill=\"none\"/>\n",
              "    <path d=\"M18.56 5.44l.94 2.06.94-2.06 2.06-.94-2.06-.94-.94-2.06-.94 2.06-2.06.94zm-11 1L8.5 8.5l.94-2.06 2.06-.94-2.06-.94L8.5 2.5l-.94 2.06-2.06.94zm10 10l.94 2.06.94-2.06 2.06-.94-2.06-.94-.94-2.06-.94 2.06-2.06.94z\"/><path d=\"M17.41 7.96l-1.37-1.37c-.4-.4-.92-.59-1.43-.59-.52 0-1.04.2-1.43.59L10.3 9.45l-7.72 7.72c-.78.78-.78 2.05 0 2.83L4 21.41c.39.39.9.59 1.41.59.51 0 1.02-.2 1.41-.59l7.78-7.78 2.81-2.81c.8-.78.8-2.07 0-2.86zM5.41 20L4 18.59l7.72-7.72 1.47 1.35L5.41 20z\"/>\n",
              "  </svg>\n",
              "      </button>\n",
              "      \n",
              "  <style>\n",
              "    .colab-df-container {\n",
              "      display:flex;\n",
              "      flex-wrap:wrap;\n",
              "      gap: 12px;\n",
              "    }\n",
              "\n",
              "    .colab-df-convert {\n",
              "      background-color: #E8F0FE;\n",
              "      border: none;\n",
              "      border-radius: 50%;\n",
              "      cursor: pointer;\n",
              "      display: none;\n",
              "      fill: #1967D2;\n",
              "      height: 32px;\n",
              "      padding: 0 0 0 0;\n",
              "      width: 32px;\n",
              "    }\n",
              "\n",
              "    .colab-df-convert:hover {\n",
              "      background-color: #E2EBFA;\n",
              "      box-shadow: 0px 1px 2px rgba(60, 64, 67, 0.3), 0px 1px 3px 1px rgba(60, 64, 67, 0.15);\n",
              "      fill: #174EA6;\n",
              "    }\n",
              "\n",
              "    [theme=dark] .colab-df-convert {\n",
              "      background-color: #3B4455;\n",
              "      fill: #D2E3FC;\n",
              "    }\n",
              "\n",
              "    [theme=dark] .colab-df-convert:hover {\n",
              "      background-color: #434B5C;\n",
              "      box-shadow: 0px 1px 3px 1px rgba(0, 0, 0, 0.15);\n",
              "      filter: drop-shadow(0px 1px 2px rgba(0, 0, 0, 0.3));\n",
              "      fill: #FFFFFF;\n",
              "    }\n",
              "  </style>\n",
              "\n",
              "      <script>\n",
              "        const buttonEl =\n",
              "          document.querySelector('#df-d8ff56ee-d226-415a-9ca8-a1ba363e300a button.colab-df-convert');\n",
              "        buttonEl.style.display =\n",
              "          google.colab.kernel.accessAllowed ? 'block' : 'none';\n",
              "\n",
              "        async function convertToInteractive(key) {\n",
              "          const element = document.querySelector('#df-d8ff56ee-d226-415a-9ca8-a1ba363e300a');\n",
              "          const dataTable =\n",
              "            await google.colab.kernel.invokeFunction('convertToInteractive',\n",
              "                                                     [key], {});\n",
              "          if (!dataTable) return;\n",
              "\n",
              "          const docLinkHtml = 'Like what you see? Visit the ' +\n",
              "            '<a target=\"_blank\" href=https://colab.research.google.com/notebooks/data_table.ipynb>data table notebook</a>'\n",
              "            + ' to learn more about interactive tables.';\n",
              "          element.innerHTML = '';\n",
              "          dataTable['output_type'] = 'display_data';\n",
              "          await google.colab.output.renderOutput(dataTable, element);\n",
              "          const docLink = document.createElement('div');\n",
              "          docLink.innerHTML = docLinkHtml;\n",
              "          element.appendChild(docLink);\n",
              "        }\n",
              "      </script>\n",
              "    </div>\n",
              "  </div>\n",
              "  "
            ],
            "text/plain": [
              "            Frekuensi\n",
              "Token                \n",
              "prediksi            9\n",
              "madura             93\n",
              "united             97\n",
              "fc                 25\n",
              "vs                 44\n",
              "...               ...\n",
              "pass                1\n",
              "facto               1\n",
              "jure                1\n",
              "menembus            1\n",
              "pc3l0qbe9i          1\n",
              "\n",
              "[4021 rows x 1 columns]"
            ]
          },
          "execution_count": 102,
          "metadata": {},
          "output_type": "execute_result"
        }
      ],
      "source": [
        "from collections import Counter\n",
        "\n",
        "word = sorted(set(sum(tokenized_text, [])))\n",
        "dtm = np.zeros((len(tokenized_text), len(word)))\n",
        "\n",
        "for i, tokens in enumerate(tokenized_text):\n",
        "    for token in tokens:\n",
        "        j = word.index(token)\n",
        "        dtm[i, j] += 1\n",
        "\n",
        "df_dtm = pd.DataFrame(dtm, columns=word)\n",
        "\n",
        "count = Counter(np.concatenate(tokenized_text, axis=0))\n",
        "\n",
        "frekuensi = pd.DataFrame.from_dict(count, orient='index', columns=['Frekuensi'])\n",
        "frekuensi.index.name = 'Token'\n",
        "frekuensi"
      ]
    },
    {
      "cell_type": "markdown",
      "metadata": {
        "id": "qH67o3RxtbEd"
      },
      "source": [
        "# C). Text Classification"
      ]
    },
    {
      "cell_type": "markdown",
      "metadata": {
        "id": "g1okwF8j57jX"
      },
      "source": [
        "### 1) Preparing Data\n",
        "\n",
        "Dalam hal ini, kami melakukan persiapan data tweet yang sudah kami oleh untuk digunakan pada proses Text Classification ini."
      ]
    },
    {
      "cell_type": "markdown",
      "metadata": {
        "id": "lDuO0pU26Nzi"
      },
      "source": [
        "#### a) Variabel Prediktor\n",
        "\n",
        "Kami buat variabel prediktor sebagai X yang berisi informasi Tweet."
      ]
    },
    {
      "cell_type": "code",
      "execution_count": null,
      "metadata": {
        "id": "nhPDQWFq2eXi"
      },
      "outputs": [],
      "source": [
        "X = df_sns.iloc[:, :1].values\n",
        "X = X[:, 0]"
      ]
    },
    {
      "cell_type": "markdown",
      "metadata": {
        "id": "PAL1wfYx7Vtb"
      },
      "source": [
        "#### b) Variabel Target\n",
        "\n",
        "Variabel target dibuat sebagai y berisi sentimen."
      ]
    },
    {
      "cell_type": "code",
      "execution_count": null,
      "metadata": {
        "id": "XbbZMtrr7X2I"
      },
      "outputs": [],
      "source": [
        "y = df_sns.iloc[:, 3].values  "
      ]
    },
    {
      "cell_type": "markdown",
      "metadata": {
        "id": "H_z-Jphi51Gg"
      },
      "source": [
        "### 2) k-Nearest Neighbors"
      ]
    },
    {
      "cell_type": "markdown",
      "metadata": {
        "id": "2GUZiytf9OVu"
      },
      "source": [
        "**Pembagian Dataset**\n",
        "\n",
        "Dimana kami membagi data tweet menjadi training dan data uji. Dalam hal ini persentasenya adalah 80% data training dan 20% data uji."
      ]
    },
    {
      "cell_type": "code",
      "execution_count": null,
      "metadata": {
        "id": "SqLZK5xO1ibj"
      },
      "outputs": [],
      "source": [
        "nltk.download('stopwords')  \n",
        "from nltk.corpus import stopwords  \n",
        "from sklearn.feature_extraction.text import TfidfVectorizer  \n",
        "tfidfconverter = TfidfVectorizer(max_features=2000, min_df=5, max_df=0.7, stop_words=stopwords.words('english'))  \n",
        "X = tfidfconverter.fit_transform(df_sns['Tweet']).toarray()\n",
        " \n",
        "from sklearn.model_selection import train_test_split  \n",
        "X_train, X_test, y_train, y_test = train_test_split(X, y, test_size=0.2, random_state=0)"
      ]
    },
    {
      "cell_type": "markdown",
      "metadata": {
        "id": "hggWPp249MSv"
      },
      "source": [
        "**Normalisasi**"
      ]
    },
    {
      "cell_type": "code",
      "execution_count": null,
      "metadata": {
        "id": "7BBarS8j1qii"
      },
      "outputs": [],
      "source": [
        "from sklearn.preprocessing import StandardScaler\n",
        "scaler = StandardScaler()\n",
        "scaler.fit(X_train)\n",
        "\n",
        "X_train = scaler.transform(X_train)\n",
        "X_test = scaler.transform(X_test)"
      ]
    },
    {
      "cell_type": "markdown",
      "metadata": {
        "id": "NaS-gGkI9bu_"
      },
      "source": [
        "**Pembuatan Model KNN**"
      ]
    },
    {
      "cell_type": "code",
      "execution_count": null,
      "metadata": {
        "id": "hSsou38h2Bew"
      },
      "outputs": [],
      "source": [
        "from sklearn.neighbors import KNeighborsClassifier\n",
        "\n",
        "classifier = KNeighborsClassifier(n_neighbors=5)\n",
        "classifier.fit(X_train, y_train)"
      ]
    },
    {
      "cell_type": "markdown",
      "metadata": {
        "id": "N43gk4UA9d3x"
      },
      "source": [
        "**Confusion Matrix**"
      ]
    },
    {
      "cell_type": "code",
      "execution_count": null,
      "metadata": {
        "colab": {
          "base_uri": "https://localhost:8080/"
        },
        "id": "iyBUFfs99hC-",
        "outputId": "5588bbd2-386b-4bcf-eef9-3e04826bdd76"
      },
      "outputs": [
        {
          "name": "stdout",
          "output_type": "stream",
          "text": [
            "The Confusion Matrix is:\n",
            "\n",
            "[[  2   8   0]\n",
            " [  0 165   0]\n",
            " [  0  20   6]]\n"
          ]
        }
      ],
      "source": [
        "from sklearn.metrics import confusion_matrix\n",
        "\n",
        "predictions = classifier.predict(X_test)\n",
        "\n",
        "print(\"The Confusion Matrix is:\\n\")\n",
        "print(confusion_matrix(y_test,predictions))"
      ]
    },
    {
      "cell_type": "markdown",
      "metadata": {
        "id": "FspEuqcW9ncT"
      },
      "source": [
        "**Menghitung Akurasi**"
      ]
    },
    {
      "cell_type": "code",
      "execution_count": null,
      "metadata": {
        "colab": {
          "base_uri": "https://localhost:8080/"
        },
        "id": "eXS_4Fmh2EYf",
        "outputId": "d06faef4-98ac-4eab-b3de-0e6293092a22"
      },
      "outputs": [
        {
          "name": "stdout",
          "output_type": "stream",
          "text": [
            "Laporan Klasifikasi\n",
            "\n",
            "              precision    recall  f1-score   support\n",
            "\n",
            "    Negative       1.00      0.20      0.33        10\n",
            "     Neutral       0.85      1.00      0.92       165\n",
            "    Positive       1.00      0.23      0.38        26\n",
            "\n",
            "    accuracy                           0.86       201\n",
            "   macro avg       0.95      0.48      0.54       201\n",
            "weighted avg       0.88      0.86      0.82       201\n",
            "\n",
            "========\n",
            "Akurasi = 0.8606965174129353\n"
          ]
        }
      ],
      "source": [
        "from sklearn.metrics import classification_report, accuracy_score\n",
        "\n",
        "print(\"Laporan Klasifikasi\\n\")\n",
        "print(classification_report(y_test,predictions))\n",
        "print(\"========\\nAkurasi =\", accuracy_score(y_test, predictions))  "
      ]
    },
    {
      "cell_type": "markdown",
      "metadata": {
        "id": "3kSEr06R2MF4"
      },
      "source": [
        "### 3) Random Forest"
      ]
    },
    {
      "cell_type": "markdown",
      "metadata": {
        "id": "Wrr_youw-HiM"
      },
      "source": [
        "**Pembuatan Model Random Forest**"
      ]
    },
    {
      "cell_type": "code",
      "execution_count": null,
      "metadata": {
        "colab": {
          "base_uri": "https://localhost:8080/",
          "height": 75
        },
        "id": "4ftbBS8X2GnK",
        "outputId": "ba90b5b5-ee96-427e-a595-44a439e724c9"
      },
      "outputs": [
        {
          "data": {
            "text/html": [
              "<style>#sk-container-id-6 {color: black;background-color: white;}#sk-container-id-6 pre{padding: 0;}#sk-container-id-6 div.sk-toggleable {background-color: white;}#sk-container-id-6 label.sk-toggleable__label {cursor: pointer;display: block;width: 100%;margin-bottom: 0;padding: 0.3em;box-sizing: border-box;text-align: center;}#sk-container-id-6 label.sk-toggleable__label-arrow:before {content: \"▸\";float: left;margin-right: 0.25em;color: #696969;}#sk-container-id-6 label.sk-toggleable__label-arrow:hover:before {color: black;}#sk-container-id-6 div.sk-estimator:hover label.sk-toggleable__label-arrow:before {color: black;}#sk-container-id-6 div.sk-toggleable__content {max-height: 0;max-width: 0;overflow: hidden;text-align: left;background-color: #f0f8ff;}#sk-container-id-6 div.sk-toggleable__content pre {margin: 0.2em;color: black;border-radius: 0.25em;background-color: #f0f8ff;}#sk-container-id-6 input.sk-toggleable__control:checked~div.sk-toggleable__content {max-height: 200px;max-width: 100%;overflow: auto;}#sk-container-id-6 input.sk-toggleable__control:checked~label.sk-toggleable__label-arrow:before {content: \"▾\";}#sk-container-id-6 div.sk-estimator input.sk-toggleable__control:checked~label.sk-toggleable__label {background-color: #d4ebff;}#sk-container-id-6 div.sk-label input.sk-toggleable__control:checked~label.sk-toggleable__label {background-color: #d4ebff;}#sk-container-id-6 input.sk-hidden--visually {border: 0;clip: rect(1px 1px 1px 1px);clip: rect(1px, 1px, 1px, 1px);height: 1px;margin: -1px;overflow: hidden;padding: 0;position: absolute;width: 1px;}#sk-container-id-6 div.sk-estimator {font-family: monospace;background-color: #f0f8ff;border: 1px dotted black;border-radius: 0.25em;box-sizing: border-box;margin-bottom: 0.5em;}#sk-container-id-6 div.sk-estimator:hover {background-color: #d4ebff;}#sk-container-id-6 div.sk-parallel-item::after {content: \"\";width: 100%;border-bottom: 1px solid gray;flex-grow: 1;}#sk-container-id-6 div.sk-label:hover label.sk-toggleable__label {background-color: #d4ebff;}#sk-container-id-6 div.sk-serial::before {content: \"\";position: absolute;border-left: 1px solid gray;box-sizing: border-box;top: 0;bottom: 0;left: 50%;z-index: 0;}#sk-container-id-6 div.sk-serial {display: flex;flex-direction: column;align-items: center;background-color: white;padding-right: 0.2em;padding-left: 0.2em;position: relative;}#sk-container-id-6 div.sk-item {position: relative;z-index: 1;}#sk-container-id-6 div.sk-parallel {display: flex;align-items: stretch;justify-content: center;background-color: white;position: relative;}#sk-container-id-6 div.sk-item::before, #sk-container-id-6 div.sk-parallel-item::before {content: \"\";position: absolute;border-left: 1px solid gray;box-sizing: border-box;top: 0;bottom: 0;left: 50%;z-index: -1;}#sk-container-id-6 div.sk-parallel-item {display: flex;flex-direction: column;z-index: 1;position: relative;background-color: white;}#sk-container-id-6 div.sk-parallel-item:first-child::after {align-self: flex-end;width: 50%;}#sk-container-id-6 div.sk-parallel-item:last-child::after {align-self: flex-start;width: 50%;}#sk-container-id-6 div.sk-parallel-item:only-child::after {width: 0;}#sk-container-id-6 div.sk-dashed-wrapped {border: 1px dashed gray;margin: 0 0.4em 0.5em 0.4em;box-sizing: border-box;padding-bottom: 0.4em;background-color: white;}#sk-container-id-6 div.sk-label label {font-family: monospace;font-weight: bold;display: inline-block;line-height: 1.2em;}#sk-container-id-6 div.sk-label-container {text-align: center;}#sk-container-id-6 div.sk-container {/* jupyter's `normalize.less` sets `[hidden] { display: none; }` but bootstrap.min.css set `[hidden] { display: none !important; }` so we also need the `!important` here to be able to override the default hidden behavior on the sphinx rendered scikit-learn.org. See: https://github.com/scikit-learn/scikit-learn/issues/21755 */display: inline-block !important;position: relative;}#sk-container-id-6 div.sk-text-repr-fallback {display: none;}</style><div id=\"sk-container-id-6\" class=\"sk-top-container\"><div class=\"sk-text-repr-fallback\"><pre>RandomForestClassifier(random_state=0)</pre><b>In a Jupyter environment, please rerun this cell to show the HTML representation or trust the notebook. <br />On GitHub, the HTML representation is unable to render, please try loading this page with nbviewer.org.</b></div><div class=\"sk-container\" hidden><div class=\"sk-item\"><div class=\"sk-estimator sk-toggleable\"><input class=\"sk-toggleable__control sk-hidden--visually\" id=\"sk-estimator-id-6\" type=\"checkbox\" checked><label for=\"sk-estimator-id-6\" class=\"sk-toggleable__label sk-toggleable__label-arrow\">RandomForestClassifier</label><div class=\"sk-toggleable__content\"><pre>RandomForestClassifier(random_state=0)</pre></div></div></div></div></div>"
            ],
            "text/plain": [
              "RandomForestClassifier(random_state=0)"
            ]
          },
          "execution_count": 150,
          "metadata": {},
          "output_type": "execute_result"
        }
      ],
      "source": [
        "from sklearn.ensemble import RandomForestClassifier\n",
        "text_classifier = RandomForestClassifier(n_estimators=100, random_state=0)  \n",
        "text_classifier.fit(X_train, y_train)"
      ]
    },
    {
      "cell_type": "markdown",
      "metadata": {
        "id": "ZAkLhO6E-K7J"
      },
      "source": [
        "**Confusion Matrix**"
      ]
    },
    {
      "cell_type": "code",
      "execution_count": null,
      "metadata": {
        "colab": {
          "base_uri": "https://localhost:8080/"
        },
        "id": "3VKUCdxP2NgT",
        "outputId": "2b97c2ed-333e-4c06-88ce-3f927fc5b5af"
      },
      "outputs": [
        {
          "name": "stdout",
          "output_type": "stream",
          "text": [
            "The Confusion Matrix is:\n",
            "[[  2   8   0]\n",
            " [  0 165   0]\n",
            " [  0  10  16]]\n"
          ]
        }
      ],
      "source": [
        "from sklearn.metrics import confusion_matrix\n",
        "predictions = text_classifier.predict(X_test)\n",
        "\n",
        "print(\"The Confusion Matrix is:\")\n",
        "print(confusion_matrix(y_test,predictions)) "
      ]
    },
    {
      "cell_type": "code",
      "execution_count": null,
      "metadata": {
        "colab": {
          "base_uri": "https://localhost:8080/"
        },
        "id": "4ptgF_Gf2Vt6",
        "outputId": "67ed01a2-bdd8-4a19-a753-390bdfb5598c"
      },
      "outputs": [
        {
          "name": "stdout",
          "output_type": "stream",
          "text": [
            "Laporan Klasifikasi\n",
            "\n",
            "              precision    recall  f1-score   support\n",
            "\n",
            "    Negative       1.00      0.20      0.33        10\n",
            "     Neutral       0.90      1.00      0.95       165\n",
            "    Positive       1.00      0.62      0.76        26\n",
            "\n",
            "    accuracy                           0.91       201\n",
            "   macro avg       0.97      0.61      0.68       201\n",
            "weighted avg       0.92      0.91      0.89       201\n",
            "\n",
            "========\n",
            "Akurasi = 0.9104477611940298\n"
          ]
        }
      ],
      "source": [
        "from sklearn.metrics import classification_report, accuracy_score\n",
        "\n",
        "print(\"Laporan Klasifikasi\\n\")\n",
        "print(classification_report(y_test,predictions))\n",
        "print(\"========\\nAkurasi =\", accuracy_score(y_test, predictions))  "
      ]
    }
  ],
  "metadata": {
    "colab": {
      "provenance": [],
      "toc_visible": true,
      "include_colab_link": true
    },
    "kernelspec": {
      "display_name": "Python 3",
      "name": "python3"
    },
    "language_info": {
      "name": "python"
    }
  },
  "nbformat": 4,
  "nbformat_minor": 0
}